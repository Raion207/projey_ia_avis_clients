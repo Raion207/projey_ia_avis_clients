{
 "cells": [
  {
   "cell_type": "markdown",
   "id": "8d538fee",
   "metadata": {},
   "source": [
    "# Data Analysis Notebook\n",
    "This notebook contains analysis and visualizations for the provided dataset."
   ]
  },
  {
   "cell_type": "code",
   "execution_count": null,
   "id": "fc1441de",
   "metadata": {},
   "outputs": [
    {
     "ename": "",
     "evalue": "",
     "output_type": "error",
     "traceback": [
      "\u001b[1;31mLes cellules en cours d’exécution avec .venv (Python 3.9.6) nécessitent le package ipykernel.\n",
      "\u001b[1;31mExécutez la commande suivante pour installer 'ipykernel' dans l’environnement Python. \n",
      "\u001b[1;31mCommande : '/Users/franckgeoffroyseka/Desktop/ia-efrei/.venv/bin/python -m pip install ipykernel -U --force-reinstall'"
     ]
    }
   ],
   "source": [
    "\n",
    "import pandas as pd\n",
    "import matplotlib.pyplot as plt\n",
    "from wordcloud import WordCloud\n",
    "\n",
    "# Load the CSV file\n",
    "file_path = '/mnt/data/dataset.csv'\n",
    "data = pd.read_csv(file_path)\n",
    "\n",
    "# Display the first few rows of the dataset\n",
    "print(\"Dataset Preview:\")\n",
    "display(data.head())\n",
    "\n",
    "# Generate a word cloud from the reviews\n",
    "all_reviews = ' '.join(data['review'])\n",
    "wordcloud_reviews = WordCloud(width=800, height=400, background_color='white', colormap='viridis').generate(all_reviews)\n",
    "\n",
    "# Plot the word cloud\n",
    "plt.figure(figsize=(10, 5))\n",
    "plt.imshow(wordcloud_reviews, interpolation='bilinear')\n",
    "plt.axis('off')\n",
    "plt.title('Nuage de Mots - Avis Clients')\n",
    "plt.show()\n",
    "\n",
    "# Count the frequency of sentiments\n",
    "sentiment_counts = data['sentiment'].value_counts()\n",
    "\n",
    "# Plot the sentiment frequency\n",
    "plt.figure(figsize=(8, 6))\n",
    "sentiment_counts.plot(kind='bar', color=['skyblue', 'lightgreen', 'salmon'])\n",
    "plt.xlabel('Sentiment')\n",
    "plt.ylabel('Frequency')\n",
    "plt.title('Frequency of Sentiments in Reviews')\n",
    "plt.xticks(rotation=0)\n",
    "plt.show()\n",
    "\n",
    "# Further analysis can be done here...\n"
   ]
  }
 ],
 "metadata": {
  "kernelspec": {
   "display_name": ".venv",
   "language": "python",
   "name": "python3"
  },
  "language_info": {
   "name": "python",
   "version": "3.9.6"
  }
 },
 "nbformat": 4,
 "nbformat_minor": 5
}
